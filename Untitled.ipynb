{
 "cells": [
  {
   "cell_type": "code",
   "execution_count": null,
   "id": "ce0830c4",
   "metadata": {},
   "outputs": [],
   "source": [
    "import numpy as np\n",
    "from scipy import signal\n",
    "from config import RATE, DURATION\n",
    "from wave_gen import chirp,  plot, write_to_txt\n",
    "\n",
    "def timeline(amplitude):\n",
    "    return np.arange(0, DURATION*(len(amplitude)/time.size), 1/RATE)"
   ]
  },
  {
   "cell_type": "code",
   "execution_count": null,
   "id": "f5486237",
   "metadata": {},
   "outputs": [],
   "source": [
    "time = np.arange(0, DURATION, 1/RATE)"
   ]
  },
  {
   "cell_type": "code",
   "execution_count": null,
   "id": "1783fd89",
   "metadata": {},
   "outputs": [],
   "source": [
    "# emitted signal s(t)\n",
    "# sig_s = chirp('lin', time, 100, 2000, 1, 1, clipThreshold=0.7)\n",
    "sig_s = signal.unit_impulse(time.size, idx=0)/2 + \\\n",
    "    signal.unit_impulse(time.size, idx=time.size//4)/2 + \\\n",
    "    signal.unit_impulse(time.size, idx=time.size//2)\n"
   ]
  },
  {
   "cell_type": "code",
   "execution_count": null,
   "id": "86bad41d",
   "metadata": {},
   "outputs": [],
   "source": [
    "# impulse response h(t)\n",
    "sig_h = chirp('lin', time, 10, 8, 1, 0, clipThreshold=0.7)"
   ]
  },
  {
   "cell_type": "code",
   "execution_count": null,
   "id": "20b159c0",
   "metadata": {},
   "outputs": [],
   "source": [
    "# detected response r(t)\n",
    "sig_r = signal.convolve(sig_s, sig_h)"
   ]
  },
  {
   "cell_type": "code",
   "execution_count": null,
   "id": "01ede114",
   "metadata": {},
   "outputs": [],
   "source": [
    "# Deconvolution h(t)\n",
    "sig_decon, sig_noise = signal.deconvolve(sig_r, sig_s)"
   ]
  },
  {
   "cell_type": "code",
   "execution_count": null,
   "id": "49ec0957",
   "metadata": {},
   "outputs": [],
   "source": [
    "plot(timeline(sig_s), sig_s, sample_sz=-1, title='sig_s')\n",
    "# show_fft(sig_s, title=\"sig_s\")"
   ]
  },
  {
   "cell_type": "code",
   "execution_count": null,
   "id": "0026d304",
   "metadata": {},
   "outputs": [],
   "source": [
    "plot(timeline(sig_h), sig_h, sample_sz=-1, title='sig_h')\n",
    "# show_fft(sig_h, title=\"sig_h\")"
   ]
  },
  {
   "cell_type": "code",
   "execution_count": null,
   "id": "f9813d53",
   "metadata": {},
   "outputs": [],
   "source": [
    "plot(timeline(sig_r), sig_r, sample_sz=-1, title='sig_r')\n",
    "# show_fft(sig_r, title=\"sig_r\")"
   ]
  },
  {
   "cell_type": "code",
   "execution_count": null,
   "id": "af18f4c9",
   "metadata": {},
   "outputs": [],
   "source": [
    "plot(timeline(sig_decon),\n",
    "     sig_decon, sample_sz=-1, title='sig_decon h(t)')\n",
    "# show_fft(sig_decon, title=\"sig_decon\")"
   ]
  },
  {
   "cell_type": "code",
   "execution_count": null,
   "id": "67e8d031",
   "metadata": {},
   "outputs": [],
   "source": [
    "plot(timeline(sig_noise),\n",
    "     sig_noise, sample_sz=-1, title='sig_noise')\n",
    "# show_fft(sig_decon, title=\"sig_decon\")"
   ]
  },
  {
   "cell_type": "code",
   "execution_count": null,
   "id": "923395e7",
   "metadata": {},
   "outputs": [],
   "source": [
    "# write_to_txt('h', sig_h)\n",
    "# write_to_txt('r', sig_r)"
   ]
  },
  {
   "cell_type": "code",
   "execution_count": null,
   "id": "2250afbf",
   "metadata": {},
   "outputs": [],
   "source": []
  }
 ],
 "metadata": {
  "kernelspec": {
   "display_name": "Python 3 (ipykernel)",
   "language": "python",
   "name": "python3"
  },
  "language_info": {
   "codemirror_mode": {
    "name": "ipython",
    "version": 3
   },
   "file_extension": ".py",
   "mimetype": "text/x-python",
   "name": "python",
   "nbconvert_exporter": "python",
   "pygments_lexer": "ipython3",
   "version": "3.9.12"
  }
 },
 "nbformat": 4,
 "nbformat_minor": 5
}
